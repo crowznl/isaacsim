{
 "cells": [
  {
   "cell_type": "markdown",
   "metadata": {},
   "source": [
    "# 0.安装Isaac Sim"
   ]
  },
  {
   "cell_type": "markdown",
   "metadata": {},
   "source": [
    "> Isaac Sim的相关包路径无法正确地被VS Code之类的IDE识别，这是因为Isaac Sim的相关包并非完全按照标准Python包组织，因此需要添加脚本来设置环境，使得在正常的编辑器环境中，Isaac Sim的相关包能够被找到。打开终端，进入到你的项目的根目录下执行这个脚本，可以让编辑器的python分析正确地识别Isaac Sim相关包。[参考:Nvidia Isaac Sim安装与配置 入门教程 2024（2）](https://blog.csdn.net/m0_56661101/article/details/139772773)、[脚本仓库](https://github.com/Auromix/auro_sim)\n",
    ">\n",
    "> `script_name=\"setup_isaac_sim_ide_environment.sh\" && directory_name=\"/tmp\" && download_url=\"https://raw.githubusercontent.com/Auromix/auro_sim/main/scripts\" && full_script_path=\"${directory_name}/${script_name}\" && wget -O $full_script_path $download_url/$script_name && sudo chmod +x $full_script_path && bash $full_script_path && rm -rf $full_script_path\n",
    "`"
   ]
  },
  {
   "cell_type": "markdown",
   "metadata": {},
   "source": [
    "- [Nvidia Isaac Sim图形界面 入门教程 2024（3）](https://blog.csdn.net/m0_56661101/article/details/139826487)\n",
    "- [Nvidia Isaac Sim物理场景、材质和USD 入门教程 2024（4）](https://blog.csdn.net/m0_56661101/article/details/139831209)\n",
    "  > 为了更好地管理加载的USD文件和避免加载原始世界的环境内容，USD中存在名为defaultPrim的概念，在一个USD文件被其他USD文件引用时，只有defaultPrim部分会被拉取。\n",
    "- [Nvidia Isaac Sim组装机器人和添加传感器 入门教程 2024（5）](https://blog.csdn.net/m0_56661101/article/details/139840541)\n",
    "- [Nvidia Isaac Sim图编程OmniGraph 入门教程 2024（6）](https://blog.csdn.net/m0_56661101/article/details/139919794) 可以跳过，直接看后面的教程\n",
    "- [Nvidia Isaac Sim代码编程 入门教程 2024（7）](https://blog.csdn.net/m0_56661101/article/details/139936671)、[脚本仓库](https://github.com/Auromix/auro_sim) 看完# 4.Interactive Scripting再看"
   ]
  },
  {
   "cell_type": "markdown",
   "metadata": {},
   "source": [
    "# 1.Omniverse Isaac Sim Glossary术语表\n"
   ]
  },
  {
   "cell_type": "markdown",
   "metadata": {},
   "source": [
    "[Glossary术语表](https://docs.omniverse.nvidia.com/isaacsim/latest/reference_glossary.html#isaac-sim-glossary-prim)"
   ]
  },
  {
   "cell_type": "markdown",
   "metadata": {},
   "source": [
    "[Isaac Sim Workflows](https://docs.omniverse.nvidia.com/isaacsim/latest/introductory_tutorials/tutorial_intro_workflows.html)\n",
    "- GUI\n",
    "- Extensions\n",
    "- Standalone Python"
   ]
  },
  {
   "cell_type": "code",
   "execution_count": null,
   "metadata": {},
   "outputs": [],
   "source": [
    "#launch Isaac Sim before any other imports\n",
    "#default first two lines in any standalone application\n",
    "from isaacsim import SimulationApp\n",
    "simulation_app = SimulationApp({\"headless\": False}) # we can also run as headless.\n",
    "\n",
    "from omni.isaac.core import World\n",
    "world = World()\n",
    "# world.scene.add_default_ground_plane()\n",
    "# add\n",
    "\n",
    "# Its recommended to always do a reset after adding your assets, for physics handles to be propagated properly\n",
    "# Resetting the world needs to be called before querying anything related to an articulation specifically.\n",
    "world.reset()\n",
    "\n",
    "for i in range(100):\n",
    "\n",
    "    # func\n",
    "\n",
    "    world.step(render=True) # execute one physics step and one rendering step\n",
    "\n",
    "simulation_app.close() # close Isaac Sim"
   ]
  },
  {
   "cell_type": "markdown",
   "metadata": {},
   "source": [
    "[Jupyter Notebook](https://docs.omniverse.nvidia.com/isaacsim/latest/core_api_tutorials/tutorial_core_hello_world.html#converting-the-example-to-a-standalone-application-using-jupyter-notebook)"
   ]
  },
  {
   "cell_type": "markdown",
   "metadata": {},
   "source": [
    "# 2.Omnigraph"
   ]
  },
  {
   "cell_type": "markdown",
   "metadata": {},
   "source": [
    "#### 2.1\n",
    "[Action Graph Quickstart](https://docs.omniverse.nvidia.com/extensions/latest/ext_omnigraph/tutorials/quickstart.html)\n",
    "- 一个类似blender的例子。\n",
    "  - First, load the `Action Graph Bundle extension` into Omniverse USD Composer\n",
    "  - Use a `Write Prim Attribute Node`: <font color=GreenYellow>**Drag**</font> the prim from the Stage to the Action Graph editor\n",
    "  - `flipflop node`\n",
    "\n",
    "[OmniGraph](https://docs.omniverse.nvidia.com/isaacsim/latest/gui_tutorials/tutorial_gui_omnigraph.html#)\n",
    "\n",
    "- Action Graph vs Push Graph: **For majority of cases in Isaac Sim, you will be using the Action Graph.**\n",
    "  > An Action graph, or sometimes called an “Execution Graph”, is executed whenever an execution node gets triggered. In many Isaac Sim cases, the trigger is a “tick” node that is set to be triggered every simulation frame tick, so that the graph doesn’t do anything when simulation isn’t running, and ticks at every rendering frame once simulation starts. If you remove the tick node from an action graph, the graph will not run upon pressing “play”.\n",
    "  >\n",
    "  > Action Graphs can have other triggers, such as a keyboard/mouse input, or a stage event. You can find the relevant nodes under the “Event” nodes category.\n",
    "  >\n",
    "  > A Push graph, or sometimes “Generic Graph”, will execute automatically on every rendering frame, without needing an “execution” node. Since the default viewport is always running and therefore rendering, any nodes you drag into a Push Graph editor will immediately start executing, even if the simulation isn’t “playing”. You can test this by dragging a “Print Text” node into a Push Graph editor, open your console tab and allow it to publish Informational level logs. Then the moment you finish typing something in the “Text” section of the print node, the text will get printed.\n",
    "- jetbot法1，手动链接graph node\n",
    "- `On Playback Tick` node emits an execution event for every frame, but only while the simulation is playing.\n",
    "  - `On Tick` node executes an output execution pulse at a regular multiple of the refresh rate.[ OmniGraph Node Library: On Tick](https://docs.omniverse.nvidia.com/extensions/latest/ext_omnigraph/node-library/nodes/omni-graph-action/ontick-1.html)\n",
    "- 两个外设输入例子：\n",
    "Isaac Examples > Input Devices > Kaya Gamepad/Omnigraph Keyboard，在stage中xx_graph上右键单击**Open Graph**可以查看编辑"
   ]
  },
  {
   "cell_type": "markdown",
   "metadata": {},
   "source": [
    "#### 2.2\n",
    "进一步的封装常用功能\n",
    "\n",
    "[Commonly Used Omnigraph Shortcuts](https://docs.omniverse.nvidia.com/isaacsim/latest/advanced_tutorials/tutorial_advanced_omnigraph_shortcuts.html#commonly-used-omnigraph-shortcuts)\n",
    "\n",
    "jetbot法2【articulation controller】【differential Controller】"
   ]
  },
  {
   "cell_type": "markdown",
   "metadata": {},
   "source": [
    "#### 2.3\n",
    "Prerequisites，先看看# 4.Interactive Scripting 交互式脚本\n",
    "\n",
    "[scripting OmniGraph via Python](https://docs.omniverse.nvidia.com/isaacsim/latest/advanced_tutorials/tutorial_advanced_omnigraph_scripting.html#isaac-sim-app-tutorial-advanced-omnigraph-scripting)"
   ]
  },
  {
   "cell_type": "code",
   "execution_count": null,
   "metadata": {},
   "outputs": [],
   "source": [
    "import omni.graph.core as og\n",
    "\n",
    "keys = og.Controller.Keys\n",
    "(graph_handle, list_of_nodes, _, _) = og.Controller.edit(\n",
    "    {\"graph_path\": \"/action_graph\", \"evaluator_name\": \"execution\"},\n",
    "    {\n",
    "        keys.CREATE_NODES: [\n",
    "            (\"tick\", \"omni.graph.action.OnTick\"),\n",
    "            (\"print\",\"omni.graph.ui_nodes.PrintText\")\n",
    "        ],\n",
    "        keys.SET_VALUES: [\n",
    "            (\"print.inputs:text\", \"Hello World\"),\n",
    "            (\"print.inputs:logLevel\",\"Warning\")                 # setting the log level to warning so we can see the printout in terminal\n",
    "        ],\n",
    "        keys.CONNECT: [\n",
    "            (\"tick.outputs:tick\", \"print.inputs:execIn\")\n",
    "        ],\n",
    "    },\n",
    ")"
   ]
  },
  {
   "cell_type": "code",
   "execution_count": null,
   "metadata": {},
   "outputs": [],
   "source": [
    "# get existing value from an attribute\n",
    "existing_text = og.Controller.attribute(\"/action_graph/print.inputs:text\").get()\n",
    "print(\"Existing Text: \", existing_text)\n",
    "\n",
    "# set new value\n",
    "og.Controller.attribute(\"/action_graph/print.inputs:text\").set(\"New Texts to print\")"
   ]
  },
  {
   "cell_type": "code",
   "execution_count": null,
   "metadata": {},
   "outputs": [],
   "source": [
    "og.Controller.create_node(\"/action_graph/new_node_name\", \"omni.graph.nodes.ConstantString\")\n",
    "og.Controller.attribute(\"/action_graph/new_node_name.inputs:value\").set(\"This is a new node\")\n",
    "og.Controller.connect(\"/action_graph/new_node_name.inputs:value\", \"/action_graph/print.inputs:text\")"
   ]
  },
  {
   "cell_type": "markdown",
   "metadata": {},
   "source": [
    "有一个特殊参数称为“pipeline_stage”，可以将Graph设置为“按需”执行，仅在调用时执行来显式触发而不是在仿真的每一帧上进行。\n",
    "\n",
    "通常，在创建图形时设置此变量，如下所示`\"pipeline_stage\": og.GraphPipelineStage.GRAPH_PIPELINE_STAGE_ONDEMAND`。"
   ]
  },
  {
   "cell_type": "code",
   "execution_count": null,
   "metadata": {},
   "outputs": [],
   "source": [
    "(demand_graph_handle,_,_,_) = og.Controller.edit(\n",
    "    {\n",
    "        \"graph_path\": \"/ondemand_graph\",\n",
    "        \"evaluator_name\": \"execution\",\n",
    "        \"pipeline_stage\": og.GraphPipelineStage.GRAPH_PIPELINE_STAGE_ONDEMAND\n",
    "    },\n",
    "    {\n",
    "        keys.CREATE_NODES: [\n",
    "            (\"tick\", \"omni.graph.action.OnTick\"),\n",
    "            (\"print\",\"omni.graph.ui_nodes.PrintText\")\n",
    "        ],\n",
    "        keys.SET_VALUES: [\n",
    "            (\"print.inputs:text\", \"On Demand Graph\"),\n",
    "            (\"print.inputs:logLevel\",\"Warning\")\n",
    "        ],\n",
    "        keys.CONNECT: [\n",
    "            (\"tick.outputs:tick\", \"print.inputs:execIn\")\n",
    "        ],\n",
    "    },\n",
    ")"
   ]
  },
  {
   "cell_type": "markdown",
   "metadata": {},
   "source": [
    "或者，您也可以通过以下方式为已经创建的Graph设置它：`yourGraph_handle.change_pipeline_stage(og.GraphPipelineStage.GRAPH_PIPELINE_STAGE_ONDEMAND)`"
   ]
  },
  {
   "cell_type": "markdown",
   "metadata": {},
   "source": [
    "测试：\n",
    "Start simulation by press “play”. \n",
    "To manually trigger a graph, open another tab in the Script Editor, and paste in`yourGraph_handle.evaluate()`"
   ]
  },
  {
   "cell_type": "markdown",
   "metadata": {},
   "source": [
    "> 有关将图形附加到物理回调和/或渲染回调的更深入示例，请参见`standalone_examples/api/omni.isaac.core/omnigraph_triggers.py`"
   ]
  },
  {
   "cell_type": "markdown",
   "metadata": {},
   "source": [
    "#### 2.4\n",
    "\n",
    "Omnigraph’s Custom Node Tutorial 【example文件没找到，可以看看图文】\n",
    "\n",
    "- [Part One](https://docs.omniverse.nvidia.com/extensions/latest/ext_omnigraph/tutorials/deforming_text_run_graph.html)、[Part Two](https://docs.omniverse.nvidia.com/extensions/latest/ext_omnigraph/tutorials/deforming_text_create_graph.html)、[Part Three：Create Your Own Nodes](https://docs.omniverse.nvidia.com/extensions/latest/ext_omnigraph/tutorials/deforming_text_create_node.html)\n",
    "\n",
    "[创建自己的 Omnigraph（以ros2消息发布节点为例）](https://blog.csdn.net/Vulcan_S/article/details/140767393)\n",
    "> 官方为了我们更好理解摄像头和雷达的OmniGraph，开源了几个例子，在 isaac_sim 目录 exts\\omni.isaac.ros2_bridge 里面以及 exts\\omni.isaac.sensor 里面有激光等传感器，如 OgnIsaacPrintRTXLidarInfo 可以处理并打印原始RTX激光雷达数据，OgnROS2RtxLidarHelper 可以看到如何使用 replicator 发布激光点云数据，也可以直接在这些例程上修改。"
   ]
  },
  {
   "cell_type": "markdown",
   "metadata": {},
   "source": [
    "# 3.Attach a Camera to Robot\n",
    "\n",
    "[Attach a Camera to Robot](https://docs.omniverse.nvidia.com/isaacsim/latest/gui_tutorials/tutorial_gui_camera_sensors.html#attach-a-camera-to-robot)"
   ]
  },
  {
   "cell_type": "markdown",
   "metadata": {},
   "source": [
    "# 4.Interactive Scripting 交互式脚本\n",
    "\n",
    "1. Script Editor 内部的脚本编辑器 \n",
    "   \n",
    "   通过在脚本编辑器下的标签菜单中打开多个标签。所有标签共享相同的环境，因此在一个环境中导入的库或定义的变量可以在其他环境中访问和使用。\n",
    "2. REPL Extension\n",
    "   \n",
    "   启用Isaac Sim REPL扩展，打开一个新的终端，在命令行中运行 `telnet localhost 8223`。终端中会启动一个Python shell，\n",
    "   这样就可以在shell里通过 Python 与在 Isaac Sim 中打开的Stage进行交互。\n",
    "3. Raw USD APIs\n",
    "   > 注意：Raw USD APIs are versatile and detailed but complex, especially for beginners. \n",
    "4. Isaac Sim Core APIs !\n",
    "   > Isaac Sim has a set of core APIs that simplify some of the frequently used actions for robotics simulators. These APIs abstract away default parameter settings.\n",
    "   > \n",
    "   > Using Isaac Sim Core APIs produces code that is lightweight and readable. When necessary you can always use USD APIs to direct the stage.\n"
   ]
  },
  {
   "cell_type": "markdown",
   "metadata": {},
   "source": [
    "# 5.Core API\n",
    "[Core API tutorials](https://docs.omniverse.nvidia.com/isaacsim/latest/core_api_tutorials/index.html)"
   ]
  }
 ],
 "metadata": {
  "kernelspec": {
   "display_name": "isaaclab",
   "language": "python",
   "name": "python3"
  },
  "language_info": {
   "name": "python",
   "version": "3.10.14"
  }
 },
 "nbformat": 4,
 "nbformat_minor": 2
}
