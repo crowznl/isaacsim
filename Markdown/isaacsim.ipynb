{
 "cells": [
  {
   "cell_type": "markdown",
   "metadata": {},
   "source": [
    "# 1.Omniverse Isaac Sim Glossary术语表\n",
    "\n",
    "[Glossary术语表](https://docs.omniverse.nvidia.com/isaacsim/latest/reference_glossary.html#isaac-sim-glossary-prim)\n"
   ]
  },
  {
   "cell_type": "markdown",
   "metadata": {},
   "source": [
    "# 2. Omnigraph\n",
    "\n",
    "[Commonly Used Omnigraph Shortcuts](https://docs.omniverse.nvidia.com/isaacsim/latest/advanced_tutorials/tutorial_advanced_omnigraph_shortcuts.html#commonly-used-omnigraph-shortcuts)\n",
    "\n",
    "【articulation controller】"
   ]
  },
  {
   "cell_type": "markdown",
   "metadata": {},
   "source": [
    "# 3.Attach a Camera to Robot\n",
    "\n",
    "[Attach a Camera to Robot](https://docs.omniverse.nvidia.com/isaacsim/latest/gui_tutorials/tutorial_gui_camera_sensors.html#attach-a-camera-to-robot)"
   ]
  },
  {
   "cell_type": "markdown",
   "metadata": {},
   "source": [
    "# 4.Interactive Scripting 交互式脚本\n",
    "\n",
    "1. Script Editor 内部的脚本编辑器 \n",
    "   \n",
    "   通过在脚本编辑器下的标签菜单中打开多个标签。所有标签共享相同的环境，因此在一个环境中导入的库或定义的变量可以在其他环境中访问和使用。\n",
    "2. REPL Extension\n",
    "   \n",
    "   启用Isaac Sim REPL扩展，打开一个新的终端，在命令行中运行 `telnet localhost 8223`。终端中会启动一个Python shell，\n",
    "   这样就可以在shell里通过 Python 与在 Isaac Sim 中打开的Stage进行交互。\n",
    "3. Raw USD APIs\n",
    "   > 注意：Raw USD APIs are versatile and detailed but complex, especially for beginners. \n",
    "4. Isaac Sim Core APIs !\n",
    "   > Isaac Sim has a set of core APIs that simplify some of the frequently used actions for robotics simulators. These APIs abstract away default parameter settings.\n",
    "   > \n",
    "   > Using Isaac Sim Core APIs produces code that is lightweight and readable. When necessary you can always use USD APIs to direct the stage.\n"
   ]
  }
 ],
 "metadata": {
  "language_info": {
   "name": "python"
  }
 },
 "nbformat": 4,
 "nbformat_minor": 2
}
