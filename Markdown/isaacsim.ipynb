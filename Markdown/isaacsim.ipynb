{
 "cells": [
  {
   "cell_type": "markdown",
   "metadata": {},
   "source": [
    "# 1.Omniverse Isaac Sim Glossary术语表\n",
    "\n",
    "[Glossary术语表](https://docs.omniverse.nvidia.com/isaacsim/latest/reference_glossary.html#isaac-sim-glossary-prim)\n"
   ]
  },
  {
   "cell_type": "markdown",
   "metadata": {},
   "source": [
    "# 2.Omnigraph"
   ]
  },
  {
   "cell_type": "markdown",
   "metadata": {},
   "source": [
    "#### 2.1\n",
    "[Action Graph Quickstart](https://docs.omniverse.nvidia.com/extensions/latest/ext_omnigraph/tutorials/quickstart.html)\n",
    "- 一个类似blender的例子。\n",
    "  - First, load the `Action Graph Bundle extension` into Omniverse USD Composer\n",
    "  - Use a Write Prim Attribute Node: **Drag** the prim from the Stage to the Action Graph editor\n",
    "  - flipflop node\n",
    "\n",
    "[OmniGraph](https://docs.omniverse.nvidia.com/isaacsim/latest/gui_tutorials/tutorial_gui_omnigraph.html#)\n",
    "\n",
    "- jetbot法1，手动链接graph node\n",
    "- 两个外设输入例子：\n",
    "Isaac Examples > Input Devices > Kaya Gamepad/Omnigraph Keyboard，在stage中xx_graph上右键单击**Open Graph**可以查看编辑"
   ]
  },
  {
   "cell_type": "markdown",
   "metadata": {},
   "source": [
    "#### 2.2\n",
    "进一步的封装常用功能\n",
    "\n",
    "[Commonly Used Omnigraph Shortcuts](https://docs.omniverse.nvidia.com/isaacsim/latest/advanced_tutorials/tutorial_advanced_omnigraph_shortcuts.html#commonly-used-omnigraph-shortcuts)\n",
    "\n",
    "jetbot法2【articulation controller】【differential Controller】"
   ]
  },
  {
   "cell_type": "markdown",
   "metadata": {},
   "source": [
    "#### 2.3\n",
    "Prerequisites，先看看# 4.Interactive Scripting 交互式脚本\n",
    "\n",
    "[scripting OmniGraph via Python](https://docs.omniverse.nvidia.com/isaacsim/latest/advanced_tutorials/tutorial_advanced_omnigraph_scripting.html#isaac-sim-app-tutorial-advanced-omnigraph-scripting)"
   ]
  },
  {
   "cell_type": "code",
   "execution_count": null,
   "metadata": {},
   "outputs": [],
   "source": [
    "import omni.graph.core as og\n",
    "\n",
    "keys = og.Controller.Keys\n",
    "(graph_handle, list_of_nodes, _, _) = og.Controller.edit(\n",
    "    {\"graph_path\": \"/action_graph\", \"evaluator_name\": \"execution\"},\n",
    "    {\n",
    "        keys.CREATE_NODES: [\n",
    "            (\"tick\", \"omni.graph.action.OnTick\"),\n",
    "            (\"print\",\"omni.graph.ui_nodes.PrintText\")\n",
    "        ],\n",
    "        keys.SET_VALUES: [\n",
    "            (\"print.inputs:text\", \"Hello World\"),\n",
    "            (\"print.inputs:logLevel\",\"Warning\")                 # setting the log level to warning so we can see the printout in terminal\n",
    "        ],\n",
    "        keys.CONNECT: [\n",
    "            (\"tick.outputs:tick\", \"print.inputs:execIn\")\n",
    "        ],\n",
    "    },\n",
    ")"
   ]
  },
  {
   "cell_type": "code",
   "execution_count": null,
   "metadata": {},
   "outputs": [],
   "source": [
    "# get existing value from an attribute\n",
    "existing_text = og.Controller.attribute(\"/action_graph/print.inputs:text\").get()\n",
    "print(\"Existing Text: \", existing_text)\n",
    "\n",
    "# set new value\n",
    "og.Controller.attribute(\"/action_graph/print.inputs:text\").set(\"New Texts to print\")"
   ]
  },
  {
   "cell_type": "code",
   "execution_count": null,
   "metadata": {},
   "outputs": [],
   "source": [
    "og.Controller.create_node(\"/action_graph/new_node_name\", \"omni.graph.nodes.ConstantString\")\n",
    "og.Controller.attribute(\"/action_graph/new_node_name.inputs:value\").set(\"This is a new node\")\n",
    "og.Controller.connect(\"/action_graph/new_node_name.inputs:value\", \"/action_graph/print.inputs:text\")"
   ]
  },
  {
   "cell_type": "markdown",
   "metadata": {},
   "source": [
    "有一个特殊参数称为“pipeline_stage”，可以将Graph设置为“按需”执行，仅在调用时执行来显式触发而不是在仿真的每一帧上进行。\n",
    "\n",
    "通常，在创建图形时设置此变量，如下所示`\"pipeline_stage\": og.GraphPipelineStage.GRAPH_PIPELINE_STAGE_ONDEMAND`。"
   ]
  },
  {
   "cell_type": "code",
   "execution_count": null,
   "metadata": {},
   "outputs": [],
   "source": [
    "(demand_graph_handle,_,_,_) = og.Controller.edit(\n",
    "    {\n",
    "        \"graph_path\": \"/ondemand_graph\",\n",
    "        \"evaluator_name\": \"execution\",\n",
    "        \"pipeline_stage\": og.GraphPipelineStage.GRAPH_PIPELINE_STAGE_ONDEMAND\n",
    "    },\n",
    "    {\n",
    "        keys.CREATE_NODES: [\n",
    "            (\"tick\", \"omni.graph.action.OnTick\"),\n",
    "            (\"print\",\"omni.graph.ui_nodes.PrintText\")\n",
    "        ],\n",
    "        keys.SET_VALUES: [\n",
    "            (\"print.inputs:text\", \"On Demand Graph\"),\n",
    "            (\"print.inputs:logLevel\",\"Warning\")\n",
    "        ],\n",
    "        keys.CONNECT: [\n",
    "            (\"tick.outputs:tick\", \"print.inputs:execIn\")\n",
    "        ],\n",
    "    },\n",
    ")"
   ]
  },
  {
   "cell_type": "markdown",
   "metadata": {},
   "source": [
    "或者，您也可以通过以下方式为已经创建的Graph设置它：`yourGraph_handle.change_pipeline_stage(og.GraphPipelineStage.GRAPH_PIPELINE_STAGE_ONDEMAND)`"
   ]
  },
  {
   "cell_type": "markdown",
   "metadata": {},
   "source": [
    "测试：\n",
    "Start simulation by press “play”. \n",
    "To manually trigger a graph, open another tab in the Script Editor, and paste in`yourGraph_handle.evaluate()`"
   ]
  },
  {
   "cell_type": "markdown",
   "metadata": {},
   "source": [
    "> 有关将图形附加到物理回调和/或渲染回调的更深入示例，请参见`standalone_examples/api/omni.isaac.core/omnigraph_triggers.py`"
   ]
  },
  {
   "cell_type": "markdown",
   "metadata": {},
   "source": [
    "#### 2.4\n",
    "\n",
    "Omnigraph’s Custom Node Tutorial\n",
    "\n",
    "[Part One](https://docs.omniverse.nvidia.com/extensions/latest/ext_omnigraph/tutorials/deforming_text_run_graph.html)\n",
    "\n"
   ]
  },
  {
   "cell_type": "markdown",
   "metadata": {},
   "source": [
    "# 3.Attach a Camera to Robot\n",
    "\n",
    "[Attach a Camera to Robot](https://docs.omniverse.nvidia.com/isaacsim/latest/gui_tutorials/tutorial_gui_camera_sensors.html#attach-a-camera-to-robot)"
   ]
  },
  {
   "cell_type": "markdown",
   "metadata": {},
   "source": [
    "# 4.Interactive Scripting 交互式脚本\n",
    "\n",
    "1. Script Editor 内部的脚本编辑器 \n",
    "   \n",
    "   通过在脚本编辑器下的标签菜单中打开多个标签。所有标签共享相同的环境，因此在一个环境中导入的库或定义的变量可以在其他环境中访问和使用。\n",
    "2. REPL Extension\n",
    "   \n",
    "   启用Isaac Sim REPL扩展，打开一个新的终端，在命令行中运行 `telnet localhost 8223`。终端中会启动一个Python shell，\n",
    "   这样就可以在shell里通过 Python 与在 Isaac Sim 中打开的Stage进行交互。\n",
    "3. Raw USD APIs\n",
    "   > 注意：Raw USD APIs are versatile and detailed but complex, especially for beginners. \n",
    "4. Isaac Sim Core APIs !\n",
    "   > Isaac Sim has a set of core APIs that simplify some of the frequently used actions for robotics simulators. These APIs abstract away default parameter settings.\n",
    "   > \n",
    "   > Using Isaac Sim Core APIs produces code that is lightweight and readable. When necessary you can always use USD APIs to direct the stage.\n"
   ]
  }
 ],
 "metadata": {
  "kernelspec": {
   "display_name": "isaaclab",
   "language": "python",
   "name": "python3"
  },
  "language_info": {
   "name": "python",
   "version": "3.10.14"
  }
 },
 "nbformat": 4,
 "nbformat_minor": 2
}
